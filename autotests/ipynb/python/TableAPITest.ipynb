{
 "cells": [
  {
   "cell_type": "markdown",
   "metadata": {},
   "source": [
    "# Python API for Table Display\n",
    "\n",
    "In addition to APIs for creating and formatting BeakerX's interactive table widget, the Python runtime configures pandas to display tables with the interactive widget instead of static HTML."
   ]
  },
  {
   "cell_type": "code",
   "execution_count": null,
   "metadata": {},
   "outputs": [],
   "source": [
    "import pandas as pd\n",
    "from beakerx_base import *\n",
    "from beakerx_tabledisplay import *\n",
    "TableDisplay.timeZoneGlobal = \"Europe/London\"\n",
    "\"no errors\""
   ]
  },
  {
   "cell_type": "code",
   "execution_count": null,
   "metadata": {},
   "outputs": [],
   "source": [
    "beakerx_tabledisplay.pandas_display_default()\n",
    "pd.read_csv('../../resources/data/interest-rates.csv')"
   ]
  },
  {
   "cell_type": "code",
   "execution_count": null,
   "metadata": {},
   "outputs": [],
   "source": [
    "#3\n",
    "table3 = TableDisplay(pd.read_csv('../../resources/data/interest-rates.csv'))\n",
    "table3.setRowsToShow(RowsToShow.SHOW_10);\n",
    "table3"
   ]
  },
  {
   "cell_type": "markdown",
   "metadata": {},
   "source": [
    "## Alignment"
   ]
  },
  {
   "cell_type": "code",
   "execution_count": null,
   "metadata": {},
   "outputs": [],
   "source": [
    "# 4 setAlignmentProviderForColumn defaults\n",
    "colNames = [\"string column\", \"integer column\", \"double column\",\"time column\", \"boolean column\"]\n",
    "row1 = [\"0\", 0, 0, \"1900-01-28 11:00:00\", 0]\n",
    "row2 = [\"June\", 22, 33, \"2004-02-28 12:00:00\", True]\n",
    "row3 = [\"July\", 200, 300, \"2014-03-28 13:00:00\", False]\n",
    "row4 = [\"August\", 222, 333, \"2024-04-28 14:00:00\", True]\n",
    "table4 = TableDisplay(pd.DataFrame([row1, row2, row3, row4], columns=colNames), colNames, ['string', 'integer', 'double', 'time', 'boolean'])\n",
    "table4.setStringFormatForTimes(TimeUnit.DAYS)\n",
    "table4"
   ]
  },
  {
   "cell_type": "code",
   "execution_count": null,
   "metadata": {},
   "outputs": [],
   "source": [
    "# 5 setAlignmentProviderForColumn\n",
    "colNames = [\"string column\", \"integer column\", \"double column\",\"time column\", \"boolean column\"]\n",
    "row1 = [\"0\", 0, 0, \"1900-01-28 11:00:00\", 0]\n",
    "row2 = [\"June\", 22, 33, \"2004-02-28 12:00:00\", True]\n",
    "row3 = [\"July\", 200, 300, \"2014-03-28 13:00:00\", False]\n",
    "row4 = [\"August\", 222, 333, \"2024-04-28 14:00:00\", True]\n",
    "table5 = TableDisplay(pd.DataFrame([row1, row2, row3, row4], columns=colNames), colNames, ['string', 'integer', 'double', 'time', 'boolean'])\n",
    "table5.setStringFormatForTimes(TimeUnit.DAYS)\n",
    "table5.setAlignmentProviderForColumn(colNames[0], TableDisplayAlignmentProvider.CENTER_ALIGNMENT)\n",
    "table5.setAlignmentProviderForColumn(colNames[1], TableDisplayAlignmentProvider.CENTER_ALIGNMENT)\n",
    "table5.setAlignmentProviderForColumn(colNames[2], TableDisplayAlignmentProvider.CENTER_ALIGNMENT)\n",
    "table5.setAlignmentProviderForColumn(colNames[3], TableDisplayAlignmentProvider.LEFT_ALIGNMENT)\n",
    "table5.setAlignmentProviderForColumn(colNames[4], TableDisplayAlignmentProvider.RIGHT_ALIGNMENT)\n",
    "table5"
   ]
  },
  {
   "cell_type": "code",
   "execution_count": null,
   "metadata": {},
   "outputs": [],
   "source": [
    "# 6 setAlignmentProviderForType\n",
    "colNames = [\"string column\", \"integer column\", \"double column\",\"time column\", \"boolean column\"]\n",
    "row1 = [\"0\", 0, 0, \"1900-01-28 11:00:00\", 0]\n",
    "row2 = [\"June\", 22, 33, \"2004-02-28 12:00:00\", True]\n",
    "row3 = [\"July\", 200, 300, \"2014-03-28 13:00:00\", False]\n",
    "row4 = [\"August\", 222, 333, \"2024-04-28 14:00:00\", True]\n",
    "table6 = TableDisplay(pd.DataFrame([row1, row2, row3, row4], columns=colNames), colNames, ['string', 'integer', 'double', 'time', 'boolean'])\n",
    "table6.setStringFormatForTimes(TimeUnit.DAYS)\n",
    "table6.setAlignmentProviderForType(ColumnType.String, TableDisplayAlignmentProvider.CENTER_ALIGNMENT)\n",
    "table6.setAlignmentProviderForType(ColumnType.Integer, TableDisplayAlignmentProvider.CENTER_ALIGNMENT)\n",
    "table6.setAlignmentProviderForType(ColumnType.Double, TableDisplayAlignmentProvider.CENTER_ALIGNMENT)\n",
    "table6.setAlignmentProviderForType(ColumnType.Time, TableDisplayAlignmentProvider.LEFT_ALIGNMENT)\n",
    "table6.setAlignmentProviderForType(ColumnType.Boolean, TableDisplayAlignmentProvider.RIGHT_ALIGNMENT)\n",
    "table6"
   ]
  },
  {
   "cell_type": "markdown",
   "metadata": {},
   "source": [
    "## Bar Charts Renderer"
   ]
  },
  {
   "cell_type": "code",
   "execution_count": null,
   "metadata": {},
   "outputs": [],
   "source": [
    "# 7\n",
    "table7 = TableDisplay(pd.read_csv('../../resources/data/interest-rates.csv'))\n",
    "table7.setRendererForType(ColumnType.Double, TableDisplayCellRenderer.getDataBarsRenderer(True))\n",
    "#use the false parameter to hide value\n",
    "table7.setRendererForColumn(\"y10\", TableDisplayCellRenderer.getDataBarsRenderer(False))\n",
    "table7.setRowsToShow(RowsToShow.SHOW_10);\n",
    "table7"
   ]
  },
  {
   "cell_type": "markdown",
   "metadata": {},
   "source": [
    "## Formatting"
   ]
  },
  {
   "cell_type": "code",
   "execution_count": null,
   "metadata": {},
   "outputs": [],
   "source": [
    "# 8\n",
    "df8 = pd.read_csv('../../resources/data/interest-rates.csv')\n",
    "df8['time'] = df8['time'].str.slice(0,19).astype('datetime64[ns]')\n",
    "table8 = TableDisplay(df8)\n",
    "table8.setStringFormatForTimes(TimeUnit.DAYS)\n",
    "table8.setStringFormatForType(ColumnType.Double, TableDisplayStringFormat.getDecimalFormat(2,3))\n",
    "table8.setStringFormatForColumn(\"m3\", TableDisplayStringFormat.getDecimalFormat(0, 0))\n",
    "table8.setRowsToShow(RowsToShow.SHOW_10);\n",
    "table8"
   ]
  },
  {
   "cell_type": "markdown",
   "metadata": {},
   "source": [
    "## HTML format\n",
    "\n",
    "HTML format allows markup and styling of the cell's content.  Interactive JavaScript is not supported however."
   ]
  },
  {
   "cell_type": "code",
   "execution_count": null,
   "metadata": {},
   "outputs": [],
   "source": [
    "# 9\n",
    "table9 = TableDisplay({'x': '<em style=\"color:red\">italic red</em>',\n",
    "                      'y': '<b style=\"color:blue\">bold blue</b>',\n",
    "                      'z': 'strings without markup work fine too'})\n",
    "table9.setStringFormatForColumn(\"Value\", TableDisplayStringFormat.getHTMLFormat())\n",
    "table9"
   ]
  },
  {
   "cell_type": "markdown",
   "metadata": {},
   "source": [
    "## Column Visibility and Placement"
   ]
  },
  {
   "cell_type": "code",
   "execution_count": null,
   "metadata": {},
   "outputs": [],
   "source": [
    "# 10\n",
    "table10 = TableDisplay(pd.read_csv('../../resources/data/interest-rates.csv'))\n",
    "#freeze a column\n",
    "table10.setColumnFrozen(\"y1\", True)\n",
    "#hide a column\n",
    "table10.setColumnVisible(\"y30\", False)\n",
    "table10.setRowsToShow(RowsToShow.SHOW_10);\n",
    "table10"
   ]
  },
  {
   "cell_type": "code",
   "execution_count": null,
   "metadata": {},
   "outputs": [],
   "source": [
    "# 11\n",
    "table11 = TableDisplay(pd.read_csv('../../resources/data/interest-rates.csv'))\n",
    "#Columns in the list will be shown in the provided order. Columns not in the list will be hidden.\n",
    "table11.setColumnOrder([\"m3\", \"y1\", \"y10\", \"time\", \"y2\"])\n",
    "table11.setRowsToShow(RowsToShow.SHOW_10);\n",
    "table11"
   ]
  },
  {
   "cell_type": "markdown",
   "metadata": {},
   "source": [
    "## HeatmapHighlighter"
   ]
  },
  {
   "cell_type": "code",
   "execution_count": null,
   "metadata": {},
   "outputs": [],
   "source": [
    "# 12 highlighter for row\n",
    "table12 = TableDisplay(pd.read_csv('../../resources/data/interest-rates-small.csv'))\n",
    "table12.addCellHighlighter(TableDisplayCellHighlighter.getHeatmapHighlighter(\"m3\", TableDisplayCellHighlighter.FULL_ROW))\n",
    "table12"
   ]
  },
  {
   "cell_type": "code",
   "execution_count": null,
   "metadata": {},
   "outputs": [],
   "source": [
    "# 13 highlighter for column\n",
    "table13 = TableDisplay(pd.read_csv(\"../../resources/data/interest-rates-small.csv\"))\n",
    "table13.addCellHighlighter(TableDisplayCellHighlighter.getHeatmapHighlighter(\"m6\", TableDisplayCellHighlighter.SINGLE_COLUMN, 6, 8, Color.BLACK, Color.PINK))\n",
    "table13.addCellHighlighter(ThreeColorHeatmapHighlighter(\"y1\", TableDisplayCellHighlighter.SINGLE_COLUMN, 4, 6, 8, Color(247,106,106), Color(239,218,82), Color(100,189,122)))\n",
    "table13"
   ]
  },
  {
   "cell_type": "code",
   "execution_count": null,
   "metadata": {},
   "outputs": [],
   "source": [
    "# 14\n",
    "table13.removeAllCellHighlighters()"
   ]
  },
  {
   "cell_type": "code",
   "execution_count": null,
   "metadata": {},
   "outputs": [],
   "source": [
    "# 15 set HeatmapHighlighter for type\n",
    "colNames = [\"xxx column\", \"integer column\", \"double column\", \"number column\"]\n",
    "row1 = [6, 6, 0.5, 6]\n",
    "row2 = [3, 3, 2.0, 3]\n",
    "row3 = [2, 2, 3.0, 2]\n",
    "row4 = [0, 0, 6.0, 0]\n",
    "table15 = TableDisplay(pd.DataFrame([row1, row2, row3, row4], columns=colNames), colNames, ['xxx type', 'integer', 'double', 'number'])\n",
    "table15.addCellHighlighter(TableDisplayCellHighlighter.getHeatmapHighlighter(colNames[0], TableDisplayCellHighlighter.SINGLE_COLUMN))\n",
    "table15.addCellHighlighter(TableDisplayCellHighlighter.getHeatmapHighlighter(colNames[1], TableDisplayCellHighlighter.SINGLE_COLUMN))\n",
    "table15.addCellHighlighter(TableDisplayCellHighlighter.getHeatmapHighlighter(colNames[2], TableDisplayCellHighlighter.SINGLE_COLUMN))\n",
    "table15.addCellHighlighter(TableDisplayCellHighlighter.getHeatmapHighlighter(colNames[3], TableDisplayCellHighlighter.SINGLE_COLUMN))\n",
    "table15"
   ]
  },
  {
   "cell_type": "markdown",
   "metadata": {},
   "source": [
    "## UniqueEntriesHighlighter"
   ]
  },
  {
   "cell_type": "code",
   "execution_count": null,
   "metadata": {},
   "outputs": [],
   "source": [
    "# 16\n",
    "table16 = TableDisplay(pd.read_csv('../../resources/data/interest-rates-small.csv'))\n",
    "table16.addCellHighlighter(TableDisplayCellHighlighter.getUniqueEntriesHighlighter(\"m3\"))\n",
    "table16"
   ]
  },
  {
   "cell_type": "code",
   "execution_count": null,
   "metadata": {},
   "outputs": [],
   "source": [
    "# 17\n",
    "table17 = TableDisplay(pd.read_csv('../../resources/data/interest-rates-small.csv'))\n",
    "table17.addCellHighlighter(TableDisplayCellHighlighter.getHeatmapHighlighter(\"m3\", HighlightStyle.SINGLE_COLUMN))\n",
    "table17.addCellHighlighter(TableDisplayCellHighlighter.getHeatmapHighlighter(\"y10\", TableDisplayCellHighlighter.SINGLE_COLUMN))\n",
    "table17.addCellHighlighter(TableDisplayCellHighlighter.getUniqueEntriesHighlighter(\"m6\", HighlightStyle.SINGLE_COLUMN))\n",
    "table17"
   ]
  },
  {
   "cell_type": "markdown",
   "metadata": {},
   "source": [
    "## FontSize"
   ]
  },
  {
   "cell_type": "code",
   "execution_count": null,
   "metadata": {},
   "outputs": [],
   "source": [
    "# 18\n",
    "table18 = TableDisplay(pd.read_csv('../../resources/data/interest-rates-small.csv'))\n",
    "table18.setDataFontSize(10)\n",
    "table18.setHeaderFontSize(16)\n",
    "table18"
   ]
  },
  {
   "cell_type": "code",
   "execution_count": null,
   "metadata": {},
   "outputs": [],
   "source": [
    "# 19\n",
    "table19 = TableDisplay(pd.read_csv('../../resources/data/interest-rates-small.csv'))\n",
    "table19.setHeadersVertical(True)\n",
    "table19"
   ]
  },
  {
   "cell_type": "markdown",
   "metadata": {},
   "source": [
    "## ColorProvider"
   ]
  },
  {
   "cell_type": "code",
   "execution_count": null,
   "metadata": {},
   "outputs": [],
   "source": [
    "# 20\n",
    "mapListColorProvider = [\n",
    "    {\"firstCol\":1, \"secondCol\":2, \"thirdCol\":3},\n",
    "    {\"firstCol\":4, \"secondCol\":5, \"thirdCol\":6},\n",
    "    {\"firstCol\":9, \"secondCol\":8, \"thirdCol\":9}\n",
    "]\n",
    "table20 = TableDisplay(mapListColorProvider)\n",
    "\n",
    "colors = [\n",
    "    [Color.LIGHT_GRAY, Color.GRAY, Color.RED],\n",
    "    [Color.DARK_GREEN, Color.ORANGE, Color.RED],\n",
    "    [Color.MAGENTA, Color.BLUE, Color.BLACK]\n",
    "]\n",
    "def color_provider(row, column, table):\n",
    "    return colors[row][column]\n",
    "\n",
    "table20.setFontColorProvider(color_provider)\n",
    "table20"
   ]
  },
  {
   "cell_type": "markdown",
   "metadata": {},
   "source": [
    "## ToolTip"
   ]
  },
  {
   "cell_type": "code",
   "execution_count": null,
   "metadata": {},
   "outputs": [],
   "source": [
    "# 21\n",
    "table21 = TableDisplay(pd.read_csv('../../resources/data/interest-rates-small.csv'))\n",
    "\n",
    "def config_tooltip(row, column, table):\n",
    "      return \"The value is: \" + str(table.values[row][column])\n",
    "\n",
    "table21.setToolTip(config_tooltip)\n",
    "table21"
   ]
  },
  {
   "cell_type": "markdown",
   "metadata": {},
   "source": [
    "## Image format"
   ]
  },
  {
   "cell_type": "code",
   "execution_count": null,
   "metadata": {},
   "outputs": [],
   "source": [
    "# 22\n",
    "colNames = [\"Peacock\", \"Morpho\", \"Swallowtail\"]\n",
    "row1 = [\"../../resources/img/butterfly1.jpg\", \"../../resources/img/butterfly2.jpg\", \"../../resources/img/butterfly3.jpg\"]\n",
    "table22 = TableDisplay(pd.DataFrame([row1], columns=colNames), colNames)\n",
    "table22.setStringFormatForColumn(\"Peacock\", TableDisplayStringFormat.getImageFormat())\n",
    "table22.setStringFormatForColumn('Morpho', TableDisplayStringFormat.getImageFormat());\n",
    "table22"
   ]
  },
  {
   "cell_type": "code",
   "execution_count": null,
   "metadata": {},
   "outputs": [],
   "source": [
    "# 23\n",
    "table23 = TableDisplay({\"up\": \"data:image/svg+xml;base64,PD94bWwgdmVyc2lvbj0iMS4wIiBlbmNvZGluZz0idXRmLTgiPz4NCjwhRE9DVFlQRSBzdmcgUFVCTElDICItLy9XM0MvL0RURCBTVkcgMS4xLy9FTiIgImh0dHA6Ly93d3cudzMub3JnL0dyYXBoaWNzL1NWRy8xLjEvRFREL3N2ZzExLmR0ZCI+DQo8c3ZnIHZlcnNpb249IjEuMSIgeG1sbnM9Imh0dHA6Ly93d3cudzMub3JnLzIwMDAvc3ZnIiB4bWxuczp4bGluaz0iaHR0cDovL3d3dy53My5vcmcvMTk5OS94bGluayIgaGVpZ2h0PSI2NCIgd2lkdGg9IjY0IiB2aWV3Qm94PSIwIDAgNjQgNjQiPg0KICA8cG9seWdvbiBmaWxsPSIjNmJhMmM3IiBwb2ludHM9IjMwLDQgNCw2MCA2MCw2MCI+PC9wb2x5Z29uPg0KPC9zdmc+DQo=\",\n",
    "                        \"down\": \"data:image/svg+xml;base64,PD94bWwgdmVyc2lvbj0iMS4wIiBlbmNvZGluZz0idXRmLTgiPz4KPCFET0NUWVBFIHN2ZyBQVUJMSUMgIi0vL1czQy8vRFREIFNWRyAxLjEvL0VOIiAiaHR0cDovL3d3dy53My5vcmcvR3JhcGhpY3MvU1ZHLzEuMS9EVEQvc3ZnMTEuZHRkIj4KPHN2ZyB2ZXJzaW9uPSIxLjEiIHhtbG5zPSJodHRwOi8vd3d3LnczLm9yZy8yMDAwL3N2ZyIgeG1sbnM6eGxpbms9Imh0dHA6Ly93d3cudzMub3JnLzE5OTkveGxpbmsiIGhlaWdodD0iNjQiIHdpZHRoPSI2NCIgdmlld0JveD0iMCAwIDY0IDY0Ij4KICA8cG9seWdvbiBmaWxsPSIjNmJhMmM3IiBwb2ludHM9IjMwLDYwIDYwLDQgNCw0Ij48L3BvbHlnb24+Cjwvc3ZnPgo=\"})\n",
    "table23.setStringFormatForColumn(\"Value\", TableDisplayStringFormat.getImageFormat())\n",
    "table23"
   ]
  },
  {
   "cell_type": "markdown",
   "metadata": {},
   "source": [
    "## Seamless Update"
   ]
  },
  {
   "cell_type": "code",
   "execution_count": null,
   "metadata": {},
   "outputs": [],
   "source": [
    "# 24\n",
    "colNames = [\"a\", \"b\", \"c\"]\n",
    "row1 = [1, 2, 3]\n",
    "row2 = [4, 5, 6]\n",
    "row3 = [7, 8, 9]\n",
    "table24 = TableDisplay(pd.DataFrame([row1, row2, row3], columns=colNames), colNames)\n",
    "table24"
   ]
  },
  {
   "cell_type": "code",
   "execution_count": null,
   "metadata": {},
   "outputs": [],
   "source": [
    "table24.values[0][0] = 99\n",
    "table24.sendModel()"
   ]
  },
  {
   "cell_type": "markdown",
   "metadata": {},
   "source": [
    "## Auto linking of URLs\n",
    "\n",
    "The normal string format automatically detects URLs and links them.  An underline appears when the mouse hovers over such a string, and when you click it opens in a new window."
   ]
  },
  {
   "cell_type": "code",
   "execution_count": null,
   "metadata": {},
   "outputs": [],
   "source": [
    "TableDisplay({'Two Sigma': 'http://twosigma.com', 'BeakerX': 'http://BeakerX.com'})"
   ]
  },
  {
   "cell_type": "code",
   "execution_count": null,
   "metadata": {},
   "outputs": [],
   "source": []
  }
 ],
 "metadata": {
  "celltoolbar": "Tags",
  "kernelspec": {
   "display_name": "Python 3",
   "language": "python",
   "name": "python3"
  },
  "language_info": {
   "codemirror_mode": {
    "name": "ipython",
    "version": 3
   },
   "file_extension": ".py",
   "mimetype": "text/x-python",
   "name": "python",
   "nbconvert_exporter": "python",
   "pygments_lexer": "ipython3",
   "version": "3.7.5"
  },
  "toc": {
   "base_numbering": 1,
   "nav_menu": {},
   "number_sections": false,
   "sideBar": false,
   "skip_h1_title": false,
   "title_cell": "Table of Contents",
   "title_sidebar": "Contents",
   "toc_cell": false,
   "toc_position": {},
   "toc_section_display": false,
   "toc_window_display": false
  }
 },
 "nbformat": 4,
 "nbformat_minor": 4
}
